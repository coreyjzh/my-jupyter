{
 "cells": [
  {
   "cell_type": "code",
   "execution_count": 1,
   "metadata": {},
   "outputs": [],
   "source": [
    "import random\n",
    "\n",
    "suits = ['spades','clubs','diamonds','hearts']\n",
    "ranks = ['Two','Three','Four','Five','Six','Seven','Eight','Nine','Ten','Jack','Queen','King','Ace']\n",
    "values = {'Two':2,'Three':3,'Four':4,'Five':5,'Six':6,'Seven':7,'Eight':8,'Nine':9,'Ten':10,'Jack':10,'Queen':10,\n",
    "          'King':10,'Ace':11}\n",
    "\n",
    "playing = True"
   ]
  },
  {
   "cell_type": "code",
   "execution_count": 8,
   "metadata": {},
   "outputs": [],
   "source": [
    "class Card:\n",
    "    \n",
    "    def __init__(self,suit,rank):\n",
    "        self.suit = suit\n",
    "        self.rank = rank\n",
    "    \n",
    "    def __str__(self):\n",
    "        return(f\"{self.rank} of {self.suit}\")"
   ]
  },
  {
   "cell_type": "code",
   "execution_count": 9,
   "metadata": {},
   "outputs": [],
   "source": [
    "class Deck:\n",
    "    \n",
    "    def __init__(self):\n",
    "        self.deck = []\n",
    "        for suit in suits:\n",
    "            for rank in ranks:\n",
    "                self.deck.append(Card(suit,rank))\n",
    "            \n",
    "    def __str__(self):\n",
    "        deck_comp = ''\n",
    "        for card in self.deck:\n",
    "            deck_comp += '\\n' + card.__str__()\n",
    "        return \"The deck has: \" + deck_comp\n",
    "    \n",
    "    def shuffle(self):\n",
    "        random.shuffle(self.deck)\n",
    "        \n",
    "    def deal(self):\n",
    "        single_card = self.deck.pop()\n",
    "        return single_card"
   ]
  },
  {
   "cell_type": "code",
   "execution_count": 10,
   "metadata": {},
   "outputs": [
    {
     "name": "stdout",
     "output_type": "stream",
     "text": [
      "The deck has: \n",
      "Two of spades\n",
      "Three of spades\n",
      "Four of spades\n",
      "Five of spades\n",
      "Six of spades\n",
      "Seven of spades\n",
      "Eight of spades\n",
      "Nine of spades\n",
      "Ten of spades\n",
      "Jack of spades\n",
      "Queen of spades\n",
      "King of spades\n",
      "Ace of spades\n",
      "Two of clubs\n",
      "Three of clubs\n",
      "Four of clubs\n",
      "Five of clubs\n",
      "Six of clubs\n",
      "Seven of clubs\n",
      "Eight of clubs\n",
      "Nine of clubs\n",
      "Ten of clubs\n",
      "Jack of clubs\n",
      "Queen of clubs\n",
      "King of clubs\n",
      "Ace of clubs\n",
      "Two of diamonds\n",
      "Three of diamonds\n",
      "Four of diamonds\n",
      "Five of diamonds\n",
      "Six of diamonds\n",
      "Seven of diamonds\n",
      "Eight of diamonds\n",
      "Nine of diamonds\n",
      "Ten of diamonds\n",
      "Jack of diamonds\n",
      "Queen of diamonds\n",
      "King of diamonds\n",
      "Ace of diamonds\n",
      "Two of hearts\n",
      "Three of hearts\n",
      "Four of hearts\n",
      "Five of hearts\n",
      "Six of hearts\n",
      "Seven of hearts\n",
      "Eight of hearts\n",
      "Nine of hearts\n",
      "Ten of hearts\n",
      "Jack of hearts\n",
      "Queen of hearts\n",
      "King of hearts\n",
      "Ace of hearts\n"
     ]
    }
   ],
   "source": [
    "test_deck = Deck()\n",
    "print(test_deck)"
   ]
  },
  {
   "cell_type": "code",
   "execution_count": null,
   "metadata": {},
   "outputs": [],
   "source": [
    "class Hand:\n",
    "    \n",
    "    def __init__(self):\n",
    "        self.cards = []\n",
    "        self.value = 0\n",
    "        self.aces = 0\n",
    "        \n",
    "    def add_card(self,card):\n",
    "        # card passed in from deck.Deal() --> single Card()\n",
    "        self.cards.append(card)\n",
    "        self.value += values[card.rank]\n",
    "        "
   ]
  }
 ],
 "metadata": {
  "kernelspec": {
   "display_name": "Python 3",
   "language": "python",
   "name": "python3"
  },
  "language_info": {
   "codemirror_mode": {
    "name": "ipython",
    "version": 3
   },
   "file_extension": ".py",
   "mimetype": "text/x-python",
   "name": "python",
   "nbconvert_exporter": "python",
   "pygments_lexer": "ipython3",
   "version": "3.6.8"
  }
 },
 "nbformat": 4,
 "nbformat_minor": 2
}
